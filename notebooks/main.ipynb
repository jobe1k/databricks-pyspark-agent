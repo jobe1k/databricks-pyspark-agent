{
 "cells": [
  {
   "cell_type": "markdown",
   "metadata": {
    "application/vnd.databricks.v1+cell": {
     "cellMetadata": {},
     "inputWidgets": {},
     "nuid": "5c4f1181-b845-4d85-bb7c-9f879b801410",
     "showTitle": false,
     "tableResultSettingsMap": {},
     "title": ""
    }
   },
   "source": [
    "##### Create widgets"
   ]
  },
  {
   "cell_type": "code",
   "execution_count": 0,
   "metadata": {
    "application/vnd.databricks.v1+cell": {
     "cellMetadata": {
      "byteLimit": 2048000,
      "rowLimit": 10000
     },
     "inputWidgets": {},
     "nuid": "4a1275f6-6a0b-4335-8a1e-08151b35e17e",
     "showTitle": false,
     "tableResultSettingsMap": {},
     "title": ""
    }
   },
   "outputs": [],
   "source": [
    "# Databricks widgets\n",
    "dbutils.widgets.removeAll()\n",
    "dbutils.widgets.text(\"Input Path\", \"\", \"Input DBFS path(s)\")\n",
    "dbutils.widgets.text(\"Input Format\", \"auto\", \"Input format (auto/csv/parquet/delta/json)\")\n",
    "dbutils.widgets.text(\"Output Path\", \"\", \"Output DBFS path\")\n",
    "dbutils.widgets.text(\"NL Instructions\", input('Enter your instruction: '), \"Your instruction\")\n",
    "dbutils.widgets.dropdown(\"Provider\", \"openai\", [\"openai\", \"anthropic\", \"llama\"], \"LLM provider\")\n",
    "dbutils.widgets.text(\"Temperature\", \"0.0\", \"Temperature (0-1)\")\n",
    "dbutils.widgets.dropdown(\"Write Format\", \"parquet\", [\"parquet\",\"delta\",\"csv\",\"json\"], \"Write format\")\n",
    "dbutils.widgets.dropdown(\"Mode\", \"overwrite\", [\"overwrite\",\"append\",\"error\",\"ignore\"], \"Write mode\")"
   ]
  },
  {
   "cell_type": "markdown",
   "metadata": {
    "application/vnd.databricks.v1+cell": {
     "cellMetadata": {},
     "inputWidgets": {},
     "nuid": "95e6815e-e9ca-468b-9e20-cbc513a2a02a",
     "showTitle": false,
     "tableResultSettingsMap": {},
     "title": ""
    }
   },
   "source": [
    "##### Import "
   ]
  },
  {
   "cell_type": "code",
   "execution_count": 0,
   "metadata": {
    "application/vnd.databricks.v1+cell": {
     "cellMetadata": {
      "byteLimit": 2048000,
      "rowLimit": 10000
     },
     "inputWidgets": {},
     "nuid": "5288da46-1c84-4b53-80a2-0165329cd846",
     "showTitle": false,
     "tableResultSettingsMap": {},
     "title": ""
    },
    "jupyter": {
     "outputs_hidden": true
    }
   },
   "outputs": [],
   "source": [
    "%run ./pyspark-agent-dependencies"
   ]
  },
  {
   "cell_type": "code",
   "execution_count": 0,
   "metadata": {
    "application/vnd.databricks.v1+cell": {
     "cellMetadata": {
      "byteLimit": 2048000,
      "rowLimit": 10000
     },
     "inputWidgets": {},
     "nuid": "4e3539e5-fdc8-4e4a-9b3f-218e79487bc3",
     "showTitle": false,
     "tableResultSettingsMap": {},
     "title": ""
    }
   },
   "outputs": [],
   "source": [
    "if __name__ == \"__main__\":\n",
    "    # Example: Transform sales data\n",
    "    df_result = run_transformation(\n",
    "        instruction=dbutils.widgets.get('NL Instructions'),\n",
    "        input_paths=dbutils.widgets.get('Input Path'),\n",
    "        output_path=dbutils.widgets.get('Output Path'),\n",
    "        input_format=dbutils.widgets.get('Input Format'),\n",
    "        output_format=dbutils.widgets.get('Write Format'),\n",
    "        planner_provider=dbutils.widgets.get('Provider'),\n",
    "        validator_provider=dbutils.widgets.get('Provider'),\n",
    "        temperature=dbutils.widgets.get('Temperature'),\n",
    "    )"
   ]
  },
  {
   "cell_type": "code",
   "execution_count": 0,
   "metadata": {
    "application/vnd.databricks.v1+cell": {
     "cellMetadata": {},
     "inputWidgets": {},
     "nuid": "1032bb19-0ffa-46b8-afe2-48cd00eb9676",
     "showTitle": false,
     "tableResultSettingsMap": {},
     "title": ""
    }
   },
   "outputs": [],
   "source": []
  }
 ],
 "metadata": {
  "application/vnd.databricks.v1+notebook": {
   "computePreferences": null,
   "dashboards": [],
   "environmentMetadata": {
    "base_environment": "",
    "environment_version": "3"
   },
   "inputWidgetPreferences": null,
   "language": "python",
   "notebookMetadata": {
    "pythonIndentUnit": 4
   },
   "notebookName": "main",
   "widgets": {
    "Input Format": {
     "currentValue": "auto",
     "nuid": "84c39082-76d2-4114-a3a9-70d86aacfe23",
     "typedWidgetInfo": {
      "autoCreated": false,
      "defaultValue": "auto",
      "label": "Input format (auto/csv/parquet/delta/json)",
      "name": "Input Format",
      "options": {
       "widgetDisplayType": "Text",
       "validationRegex": null
      },
      "parameterDataType": "String"
     },
     "widgetInfo": {
      "widgetType": "text",
      "defaultValue": "auto",
      "label": "Input format (auto/csv/parquet/delta/json)",
      "name": "Input Format",
      "options": {
       "widgetType": "text",
       "autoCreated": null,
       "validationRegex": null
      }
     }
    },
    "Input Path": {
     "currentValue": "dbfs:/mnt/appdev-aa-json/pyspark_agent/test_csv.csv",
     "nuid": "0e89bec9-e89c-4905-a0c7-8c84f2dfcf87",
     "typedWidgetInfo": {
      "autoCreated": false,
      "defaultValue": "",
      "label": "Input DBFS path(s)",
      "name": "Input Path",
      "options": {
       "widgetDisplayType": "Text",
       "validationRegex": null
      },
      "parameterDataType": "String"
     },
     "widgetInfo": {
      "widgetType": "text",
      "defaultValue": "",
      "label": "Input DBFS path(s)",
      "name": "Input Path",
      "options": {
       "widgetType": "text",
       "autoCreated": null,
       "validationRegex": null
      }
     }
    },
    "Mode": {
     "currentValue": "overwrite",
     "nuid": "b18e0ea6-88b1-463d-964b-cab72b63ae23",
     "typedWidgetInfo": {
      "autoCreated": false,
      "defaultValue": "overwrite",
      "label": "Write mode",
      "name": "Mode",
      "options": {
       "widgetDisplayType": "Dropdown",
       "choices": [
        "overwrite",
        "append",
        "error",
        "ignore"
       ],
       "fixedDomain": true,
       "multiselect": false
      },
      "parameterDataType": "String"
     },
     "widgetInfo": {
      "widgetType": "dropdown",
      "defaultValue": "overwrite",
      "label": "Write mode",
      "name": "Mode",
      "options": {
       "widgetType": "dropdown",
       "autoCreated": null,
       "choices": [
        "overwrite",
        "append",
        "error",
        "ignore"
       ]
      }
     }
    },
    "NL Instructions": {
     "currentValue": "Group by account number and get counts, order by descending order",
     "nuid": "22fba6c6-5ed1-4bdb-be78-1e74241623ef",
     "typedWidgetInfo": {
      "autoCreated": false,
      "defaultValue": "group by email address and get count. order by count in descending order",
      "label": "Your instruction",
      "name": "NL Instructions",
      "options": {
       "widgetDisplayType": "Text",
       "validationRegex": null
      },
      "parameterDataType": "String"
     },
     "widgetInfo": {
      "widgetType": "text",
      "defaultValue": "group by email address and get count. order by count in descending order",
      "label": "Your instruction",
      "name": "NL Instructions",
      "options": {
       "widgetType": "text",
       "autoCreated": null,
       "validationRegex": null
      }
     }
    },
    "Output Path": {
     "currentValue": "dbfs:/mnt/appdev-aa-json/pyspark_agent/transformed_csv.delta",
     "nuid": "569959a4-7235-4699-9370-a5293459d45c",
     "typedWidgetInfo": {
      "autoCreated": false,
      "defaultValue": "",
      "label": "Output DBFS path",
      "name": "Output Path",
      "options": {
       "widgetDisplayType": "Text",
       "validationRegex": null
      },
      "parameterDataType": "String"
     },
     "widgetInfo": {
      "widgetType": "text",
      "defaultValue": "",
      "label": "Output DBFS path",
      "name": "Output Path",
      "options": {
       "widgetType": "text",
       "autoCreated": null,
       "validationRegex": null
      }
     }
    },
    "Provider": {
     "currentValue": "openai",
     "nuid": "5337ac6a-ee91-41bb-a70c-c77e81638c29",
     "typedWidgetInfo": {
      "autoCreated": false,
      "defaultValue": "openai",
      "label": "LLM provider",
      "name": "Provider",
      "options": {
       "widgetDisplayType": "Dropdown",
       "choices": [
        "openai",
        "anthropic",
        "llama"
       ],
       "fixedDomain": true,
       "multiselect": false
      },
      "parameterDataType": "String"
     },
     "widgetInfo": {
      "widgetType": "dropdown",
      "defaultValue": "openai",
      "label": "LLM provider",
      "name": "Provider",
      "options": {
       "widgetType": "dropdown",
       "autoCreated": null,
       "choices": [
        "openai",
        "anthropic",
        "llama"
       ]
      }
     }
    },
    "Temperature": {
     "currentValue": "0.0",
     "nuid": "744d22c3-06c0-4884-87dc-27aab2dff196",
     "typedWidgetInfo": {
      "autoCreated": false,
      "defaultValue": "0.0",
      "label": "Temperature (0-1)",
      "name": "Temperature",
      "options": {
       "widgetDisplayType": "Text",
       "validationRegex": null
      },
      "parameterDataType": "String"
     },
     "widgetInfo": {
      "widgetType": "text",
      "defaultValue": "0.0",
      "label": "Temperature (0-1)",
      "name": "Temperature",
      "options": {
       "widgetType": "text",
       "autoCreated": null,
       "validationRegex": null
      }
     }
    },
    "Write Format": {
     "currentValue": "parquet",
     "nuid": "649cdda0-10bf-4b88-85a4-5dae9e0fa7c5",
     "typedWidgetInfo": {
      "autoCreated": false,
      "defaultValue": "parquet",
      "label": "Write format",
      "name": "Write Format",
      "options": {
       "widgetDisplayType": "Dropdown",
       "choices": [
        "parquet",
        "delta",
        "csv",
        "json"
       ],
       "fixedDomain": true,
       "multiselect": false
      },
      "parameterDataType": "String"
     },
     "widgetInfo": {
      "widgetType": "dropdown",
      "defaultValue": "parquet",
      "label": "Write format",
      "name": "Write Format",
      "options": {
       "widgetType": "dropdown",
       "autoCreated": null,
       "choices": [
        "parquet",
        "delta",
        "csv",
        "json"
       ]
      }
     }
    }
   }
  },
  "language_info": {
   "name": "python"
  }
 },
 "nbformat": 4,
 "nbformat_minor": 0
}
